{
 "cells": [
  {
   "cell_type": "markdown",
   "id": "99cfb906-a0a6-40fc-8b25-665ed02016e9",
   "metadata": {},
   "source": [
    "# Named Entity Recognition for *Sovetskaya etnografiya* with SpaCy\n",
    "Das Skript ist mein Ergebnis aus dem Workshop Natural Language Processing für Historiker:innen mit Flair und SpaCy von Martin Dröge, HU Berlin, März 2022. Es extrahiert Ortsnamen aus allen Ausgaben der sowjetischen ethnografichen Zeitschrift *Sovetskaya etnografiya* und speichert diese als csv, pickle und plain text Datei. Die Ortsnamen werden mit einer Liste von historischen Ortsnamen der Tadschikischen Sozialistischen Sowjetrepublik abgeglichen, um eine Liste von Orten in Tadschikistan zu erhalten, die in der Zeitschrift erwähnt werden. "
   ]
  },
  {
   "cell_type": "markdown",
   "id": "76e9a48c-cbf8-4402-b2cb-730a72d1c2ef",
   "metadata": {},
   "source": [
    "## Importe"
   ]
  },
  {
   "cell_type": "code",
   "execution_count": 1,
   "id": "b72f0357-eecb-43c6-9e1a-0955513c0dc9",
   "metadata": {},
   "outputs": [
    {
     "name": "stderr",
     "output_type": "stream",
     "text": [
      "/opt/anaconda3/envs/ner-spacy/lib/python3.9/site-packages/tqdm/auto.py:22: TqdmWarning: IProgress not found. Please update jupyter and ipywidgets. See https://ipywidgets.readthedocs.io/en/stable/user_install.html\n",
      "  from .autonotebook import tqdm as notebook_tqdm\n"
     ]
    }
   ],
   "source": [
    "import spacy\n",
    "import os, glob\n",
    "import pickle\n",
    "import pandas as pd"
   ]
  },
  {
   "cell_type": "markdown",
   "id": "bf0cc60b-a2bd-4c25-a432-5b3002d6a67c",
   "metadata": {},
   "source": [
    "## Laden der Daten"
   ]
  },
  {
   "cell_type": "code",
   "execution_count": 7,
   "id": "86600411-fb8e-46c8-9f51-ee36abd03bd6",
   "metadata": {},
   "outputs": [
    {
     "name": "stdout",
     "output_type": "stream",
     "text": [
      "         filename                                            rohtext\n",
      "0    1937_2_3.txt  СОВЕТСКАЯ \\nЭТНОГРАФИЯ \\n2-3 \\n1937 \\nИЗДАТЕЛЬ...\n",
      "1      1986_6.txt  А К А Д Е М И Я  Н А У К  СССР\\nОРДЕНА ДРУЖБЫ ...\n",
      "2      1984_4.txt  ( / ОВЕТСКАЯ\\nЭТНОГРАФИЯ\\n1984\\nА К А Д ЕМ И Я...\n",
      "3      1979_4.txt  ISSN 0038-5050\\nС о в е т с к а я\\nЭТНОГРАФИЯ\\...\n",
      "4      1982_2.txt  ^  ^\\n \\nISSN 0038-5050\\n( / ОВЕТСКАЯ\\nЭТНОГРА...\n",
      "..            ...                                                ...\n",
      "185    1991_5.txt  Вологодская областная универсальная  научная б...\n",
      "186    1977_6.txt  >\\nР е д а к ц и о н н а я  к о л л е г и я :\\...\n",
      "187    1988_4.txt  АКАДЕМИЯ НАУК СССР\\nО РДЕНА ДРУЖ БЫ НАРОДОВ И ...\n",
      "188    1968_1.txt  ЭТНОГРАФИЯ\\nИНСТИТУТ ЭТНОГРАФИИ ИМ. Н. Н. МИКЛ...\n",
      "189    1975_4.txt  СОВЕТСКАЯ ! \\nЭТНОГРАФИЯ !\\n4\\n^\\n1975\\n1\\nИНС...\n",
      "\n",
      "[190 rows x 2 columns]\n"
     ]
    }
   ],
   "source": [
    "df = pd.DataFrame(columns=['filename', 'rohtext'])\n",
    "dir = os.getcwd()\n",
    "for filepath in glob.glob(dir+'/textfiles-flag16/*.txt'): \n",
    "    filename = os.path.basename(filepath)\n",
    "    with open(filepath) as f:\n",
    "        filetext = f.read()\n",
    "        df = df.append({'filename': filename, 'rohtext': filetext}, ignore_index=True)\n",
    "        f.close()\n",
    "print(df) # check df"
   ]
  },
  {
   "cell_type": "code",
   "execution_count": 8,
   "id": "4edad8d4-ff29-4934-b88f-8184ecb644a9",
   "metadata": {},
   "outputs": [
    {
     "name": "stdout",
     "output_type": "stream",
     "text": [
      "<class 'pandas.core.frame.DataFrame'>\n",
      "RangeIndex: 190 entries, 0 to 189\n",
      "Data columns (total 2 columns):\n",
      " #   Column    Non-Null Count  Dtype \n",
      "---  ------    --------------  ----- \n",
      " 0   filename  190 non-null    object\n",
      " 1   rohtext   190 non-null    object\n",
      "dtypes: object(2)\n",
      "memory usage: 3.1+ KB\n"
     ]
    }
   ],
   "source": [
    "df.info()"
   ]
  },
  {
   "cell_type": "markdown",
   "id": "57c15f19-10b8-4ee0-a42e-ee56ca299ca7",
   "metadata": {},
   "source": [
    "## Doc-Objekt in pandas-Dataframe"
   ]
  },
  {
   "cell_type": "markdown",
   "id": "92174893-3213-448b-9fef-ed90a47fd2b8",
   "metadata": {},
   "source": [
    "### Funktion zum Erstellen des Doc-Objekts "
   ]
  },
  {
   "cell_type": "code",
   "execution_count": 4,
   "id": "636b36a9-4d49-48a1-8d2c-47a3bd9b0192",
   "metadata": {},
   "outputs": [],
   "source": [
    "def create_doc_object(text, nlp):\n",
    "    '''\n",
    "    Loads SpaCy Language Model and creates a SpaCy Doc-Object.\n",
    "    INPUT: string\n",
    "    RETURN: spacy.tokens.doc.Doc\n",
    "    '''       \n",
    "        \n",
    "    return nlp(text)    "
   ]
  },
  {
   "cell_type": "code",
   "execution_count": 5,
   "id": "94391dee-7f64-4649-8f9b-eebdfbf767c8",
   "metadata": {},
   "outputs": [],
   "source": [
    "nlp = spacy.load('ru_core_news_md')"
   ]
  },
  {
   "cell_type": "code",
   "execution_count": 10,
   "id": "b19cb490",
   "metadata": {},
   "outputs": [
    {
     "name": "stdout",
     "output_type": "stream",
     "text": [
      "      filename                                            rohtext\n",
      "0   1990_2.txt  ISSN 0 0 3 8 -5 0 5 0\\nГ О В ЕТС КАЯ\\nЭТНОГРАФ...\n",
      "1   1990_3.txt  э\\nf  ^\\n \\nISSN 0 0 3 8 - 5 0 5 0\\nЬ\\n О  В  ...\n",
      "2   1990_1.txt  АКАДЕМИЯ НАУК СССР\\nОРДЕНА ДРУЖ БЫ  НАРОДОВ ИН...\n",
      "3   1990_4.txt  АКАДЕМИЯ НАУК СССР\\n)РДЕНА ДРУЖ Б Ы  НАРОДОВ И...\n",
      "4   1990_5.txt  I S S N  0 0 3 8 - 5 0 5 0\\n/ О В ЕТС КАЯ\\nЭТН...\n",
      "5   1990_6.txt  I S S N  0 0 3 8 - 5 0 5 0\\n/ О В ЕТС КАЯ\\nЭТН...\n",
      "6   1991_1.txt  ISSN  0 0 3 8 -5 0 5 0\\nu u o o - 3 U 3 U\\nО 9...\n",
      "7   1991_2.txt  Вологодская областная универсальная  научная б...\n",
      "8   1991_3.txt  Вологодская областная универсальная  научная б...\n",
      "9   1991_6.txt  L\\nm -  \\nIS S N  0 0 3 8 -5 0 5 0\\nСОВЕТСКАЯ\\...\n",
      "10  1991_4.txt  Вологодская областная универсальная  научная б...\n",
      "11  1991_5.txt  Вологодская областная универсальная  научная б...\n"
     ]
    }
   ],
   "source": [
    "# create sample df\n",
    "df = pd.DataFrame(columns=['filename', 'rohtext'])\n",
    "dir = os.getcwd()\n",
    "for filepath in glob.glob(dir+'/textfiles-flag16/sample/*.txt'): \n",
    "    filename = os.path.basename(filepath)\n",
    "    with open(filepath) as f:\n",
    "        filetext = f.read()\n",
    "        df = df.append({'filename': filename, 'rohtext': filetext}, ignore_index=True)\n",
    "        f.close()\n",
    "print(df) # check df"
   ]
  },
  {
   "cell_type": "code",
   "execution_count": null,
   "id": "1923132b",
   "metadata": {},
   "outputs": [],
   "source": []
  },
  {
   "cell_type": "code",
   "execution_count": 11,
   "id": "4941c3d4-54f0-45d1-a13f-607e7a9ac5e6",
   "metadata": {
    "tags": []
   },
   "outputs": [
    {
     "name": "stdout",
     "output_type": "stream",
     "text": [
      "CPU times: user 14min 36s, sys: 50.2 s, total: 15min 26s\n",
      "Wall time: 15min 37s\n"
     ]
    }
   ],
   "source": [
    "%%time\n",
    "\n",
    "# Doc-Objekte erstellen\n",
    "df.loc[:, 'doc_object'] = df.loc[:, 'rohtext'].apply(lambda text: create_doc_object(text, nlp))"
   ]
  },
  {
   "cell_type": "code",
   "execution_count": 12,
   "id": "5eae26b7-b463-40a3-ba4b-12b629588be1",
   "metadata": {},
   "outputs": [],
   "source": [
    "# pickle speichern\n",
    "\n",
    "df.to_pickle('se_ner-sample.p')"
   ]
  },
  {
   "cell_type": "markdown",
   "id": "ca9a6299-1514-4309-a0d7-7e0e8b6a528b",
   "metadata": {
    "tags": []
   },
   "source": [
    "### Einlesen der pickle-Datei"
   ]
  },
  {
   "cell_type": "code",
   "execution_count": 13,
   "id": "72ebfb15-3143-48ab-bb57-d69110a5f36f",
   "metadata": {},
   "outputs": [],
   "source": [
    "df_p = pd.read_pickle('se_ner-sample.p')"
   ]
  },
  {
   "cell_type": "code",
   "execution_count": 14,
   "id": "1a4136c7-7507-4cb8-bb64-d31f0fbaab65",
   "metadata": {},
   "outputs": [
    {
     "name": "stdout",
     "output_type": "stream",
     "text": [
      "<class 'pandas.core.frame.DataFrame'>\n",
      "RangeIndex: 12 entries, 0 to 11\n",
      "Data columns (total 3 columns):\n",
      " #   Column      Non-Null Count  Dtype \n",
      "---  ------      --------------  ----- \n",
      " 0   filename    12 non-null     object\n",
      " 1   rohtext     12 non-null     object\n",
      " 2   doc_object  12 non-null     object\n",
      "dtypes: object(3)\n",
      "memory usage: 416.0+ bytes\n"
     ]
    }
   ],
   "source": [
    "df_p.info()"
   ]
  },
  {
   "cell_type": "markdown",
   "id": "5ce9a21a-45c6-4446-a864-f5b27b034914",
   "metadata": {},
   "source": [
    "### Checks"
   ]
  },
  {
   "cell_type": "code",
   "execution_count": 15,
   "id": "b18cb9f0-6634-4706-a9ff-3b03a6a52e21",
   "metadata": {},
   "outputs": [
    {
     "data": {
      "text/plain": [
       "spacy.tokens.doc.Doc"
      ]
     },
     "execution_count": 15,
     "metadata": {},
     "output_type": "execute_result"
    }
   ],
   "source": [
    "type(df_p.loc[0, 'doc_object'])"
   ]
  },
  {
   "cell_type": "code",
   "execution_count": 16,
   "id": "53cbe252-e5c4-42f4-95ac-3611960ec252",
   "metadata": {},
   "outputs": [],
   "source": [
    "token_test = df_p.loc[0, 'doc_object']"
   ]
  },
  {
   "cell_type": "code",
   "execution_count": 17,
   "id": "c9445313-66b3-4eea-b0ad-08f75169c33f",
   "metadata": {},
   "outputs": [
    {
     "name": "stdout",
     "output_type": "stream",
     "text": [
      "ISSN issn PROPN \n",
      "0 0 NUM \n",
      "0 0 NUM \n",
      "3 3 NUM \n",
      "8 8 NUM \n",
      "-5 -5 PUNCT \n",
      "0 0 NUM \n",
      "5 5 NUM \n",
      "0 0 NUM \n",
      "\n",
      " \n",
      " SPACE \n"
     ]
    }
   ],
   "source": [
    "for token in token_test[:10]:\n",
    "    print(token.text, token.lemma_, token.pos_,token.ent_type_)"
   ]
  },
  {
   "cell_type": "markdown",
   "id": "62e2bb54-7fa1-4538-92a3-d1aa8b4770b4",
   "metadata": {},
   "source": [
    "## Tokenisierung"
   ]
  },
  {
   "cell_type": "code",
   "execution_count": 18,
   "id": "e330fc2d-578d-45ae-9742-ad43bed66a9a",
   "metadata": {},
   "outputs": [],
   "source": [
    "\n",
    "def tokenize(doc):\n",
    "    '''\n",
    "    Tokenizes text using Doc-Object\n",
    "    INPUT: Doc-Object\n",
    "    RETURN: list with tokens\n",
    "    '''\n",
    "    return [ token.text for token in doc if not token.is_punct ]"
   ]
  },
  {
   "cell_type": "code",
   "execution_count": 19,
   "id": "e5170c8d-0c84-4395-8d5f-04625057a02d",
   "metadata": {},
   "outputs": [
    {
     "name": "stdout",
     "output_type": "stream",
     "text": [
      "CPU times: user 816 ms, sys: 29.7 ms, total: 846 ms\n",
      "Wall time: 859 ms\n"
     ]
    }
   ],
   "source": [
    "%%time\n",
    "\n",
    "df.loc[:, 'tokens'] = df.loc[:, 'doc_object'].apply(lambda doc: tokenize(doc))"
   ]
  },
  {
   "cell_type": "code",
   "execution_count": 20,
   "id": "e601ba6c-f729-425e-a331-e3532d439c2f",
   "metadata": {},
   "outputs": [],
   "source": [
    "df.loc[:, 'ntokens'] = df.loc[:, 'tokens'].apply(lambda tokens: len(tokens))"
   ]
  },
  {
   "cell_type": "code",
   "execution_count": 21,
   "id": "06c1f2b3-df8e-40f1-8c82-6925554cf7f1",
   "metadata": {},
   "outputs": [
    {
     "data": {
      "text/plain": [
       "count        12.000000\n",
       "mean     113146.000000\n",
       "std       13251.053673\n",
       "min       98998.000000\n",
       "25%      105272.500000\n",
       "50%      111018.500000\n",
       "75%      115477.750000\n",
       "max      148056.000000\n",
       "Name: ntokens, dtype: float64"
      ]
     },
     "execution_count": 21,
     "metadata": {},
     "output_type": "execute_result"
    }
   ],
   "source": [
    "df.loc[:, 'ntokens'].describe()"
   ]
  },
  {
   "cell_type": "markdown",
   "id": "eb55eeac-e9be-48ff-a5a6-84e535f98aaa",
   "metadata": {},
   "source": [
    "## NER"
   ]
  },
  {
   "cell_type": "code",
   "execution_count": 22,
   "id": "0df8ac65-0569-4cfd-bb46-7251cffc59c6",
   "metadata": {},
   "outputs": [],
   "source": [
    "def extract_named_entities(doc, entity='PER'):\n",
    "    '''\n",
    "    Extracts named entities from Doc-Object.\n",
    "    INPUT: Doc-Object\n",
    "    RETURN: List with entities    \n",
    "    '''\n",
    "    return [ token.text for token in doc.ents if token.label_ == entity ]"
   ]
  },
  {
   "cell_type": "code",
   "execution_count": 23,
   "id": "4e73f4f6-b0f0-4b3e-b340-063f5cfa6186",
   "metadata": {},
   "outputs": [
    {
     "name": "stdout",
     "output_type": "stream",
     "text": [
      "CPU times: user 606 ms, sys: 198 ms, total: 804 ms\n",
      "Wall time: 810 ms\n"
     ]
    }
   ],
   "source": [
    "%%time\n",
    "\n",
    "entities = ['PER', 'ORG', 'LOC', 'MISC']\n",
    "\n",
    "for entity in entities:\n",
    "    df.loc[:, entity] = df.loc[:, 'doc_object'].apply(lambda doc: extract_named_entities(doc, entity=entity))"
   ]
  },
  {
   "cell_type": "code",
   "execution_count": 24,
   "id": "fd1de84e-9706-4b73-9be6-0a46813f8512",
   "metadata": {},
   "outputs": [
    {
     "data": {
      "text/html": [
       "<div>\n",
       "<style scoped>\n",
       "    .dataframe tbody tr th:only-of-type {\n",
       "        vertical-align: middle;\n",
       "    }\n",
       "\n",
       "    .dataframe tbody tr th {\n",
       "        vertical-align: top;\n",
       "    }\n",
       "\n",
       "    .dataframe thead th {\n",
       "        text-align: right;\n",
       "    }\n",
       "</style>\n",
       "<table border=\"1\" class=\"dataframe\">\n",
       "  <thead>\n",
       "    <tr style=\"text-align: right;\">\n",
       "      <th></th>\n",
       "      <th>0</th>\n",
       "      <th>1</th>\n",
       "      <th>2</th>\n",
       "    </tr>\n",
       "  </thead>\n",
       "  <tbody>\n",
       "    <tr>\n",
       "      <th>filename</th>\n",
       "      <td>1990_2.txt</td>\n",
       "      <td>1990_3.txt</td>\n",
       "      <td>1990_1.txt</td>\n",
       "    </tr>\n",
       "    <tr>\n",
       "      <th>rohtext</th>\n",
       "      <td>ISSN 0 0 3 8 -5 0 5 0\\nГ О В ЕТС КАЯ\\nЭТНОГРАФ...</td>\n",
       "      <td>э\\nf  ^\\n \\nISSN 0 0 3 8 - 5 0 5 0\\nЬ\\n О  В  ...</td>\n",
       "      <td>АКАДЕМИЯ НАУК СССР\\nОРДЕНА ДРУЖ БЫ  НАРОДОВ ИН...</td>\n",
       "    </tr>\n",
       "    <tr>\n",
       "      <th>doc_object</th>\n",
       "      <td>(ISSN, 0, 0, 3, 8, -5, 0, 5, 0, \\n, Г, О, В, Е...</td>\n",
       "      <td>(э, \\n, f,  , ^, \\n \\n, ISSN, 0, 0, 3, 8, -, 5...</td>\n",
       "      <td>(АКАДЕМИЯ, НАУК, СССР, \\n, ОРДЕНА, ДРУЖ, БЫ,  ...</td>\n",
       "    </tr>\n",
       "    <tr>\n",
       "      <th>tokens</th>\n",
       "      <td>[ISSN, 0, 0, 3, 8, -5, 0, 5, 0, \\n, Г, О, В, Е...</td>\n",
       "      <td>[э, \\n, f,  , ^, \\n \\n, ISSN, 0, 0, 3, 8, 5, 0...</td>\n",
       "      <td>[АКАДЕМИЯ, НАУК, СССР, \\n, ОРДЕНА, ДРУЖ, БЫ,  ...</td>\n",
       "    </tr>\n",
       "    <tr>\n",
       "      <th>ntokens</th>\n",
       "      <td>108823</td>\n",
       "      <td>111274</td>\n",
       "      <td>105736</td>\n",
       "    </tr>\n",
       "    <tr>\n",
       "      <th>PER</th>\n",
       "      <td>[Я. С., Ибн Х, В. В. Н, Самойлова, Б. В. Андри...</td>\n",
       "      <td>[Родионов, В. В. Мунтян, М. И., Нина Ивановна ...</td>\n",
       "      <td>[Л. Б., Б. П. Ш, Федор Кондратьевич Вовк (Волк...</td>\n",
       "    </tr>\n",
       "    <tr>\n",
       "      <th>ORG</th>\n",
       "      <td>[ЕТС КАЯ\\nЭТНОГРАФИЯ\\n1990\\n•НАУКА*\\n, ОД ЕРЖ ...</td>\n",
       "      <td>[БЫ  НАРОДОВ ИНСТИТУТ ЭТНОГРАФИИ им., Верховно...</td>\n",
       "      <td>[АКАДЕМИЯ НАУК СССР\\nОРДЕНА ДРУЖ БЫ  НАРОДОВ И...</td>\n",
       "    </tr>\n",
       "    <tr>\n",
       "      <th>LOC</th>\n",
       "      <td>[Карачаево-Черкесской автономной, Северном \\nТ...</td>\n",
       "      <td>[СССР, СССР, СССР, Узбекистана, Казахстана, Но...</td>\n",
       "      <td>[СССР, Сухуми, Абхазии, Камчатки, Киев, Ленинг...</td>\n",
       "    </tr>\n",
       "    <tr>\n",
       "      <th>MISC</th>\n",
       "      <td>[]</td>\n",
       "      <td>[]</td>\n",
       "      <td>[]</td>\n",
       "    </tr>\n",
       "  </tbody>\n",
       "</table>\n",
       "</div>"
      ],
      "text/plain": [
       "                                                            0  \\\n",
       "filename                                           1990_2.txt   \n",
       "rohtext     ISSN 0 0 3 8 -5 0 5 0\\nГ О В ЕТС КАЯ\\nЭТНОГРАФ...   \n",
       "doc_object  (ISSN, 0, 0, 3, 8, -5, 0, 5, 0, \\n, Г, О, В, Е...   \n",
       "tokens      [ISSN, 0, 0, 3, 8, -5, 0, 5, 0, \\n, Г, О, В, Е...   \n",
       "ntokens                                                108823   \n",
       "PER         [Я. С., Ибн Х, В. В. Н, Самойлова, Б. В. Андри...   \n",
       "ORG         [ЕТС КАЯ\\nЭТНОГРАФИЯ\\n1990\\n•НАУКА*\\n, ОД ЕРЖ ...   \n",
       "LOC         [Карачаево-Черкесской автономной, Северном \\nТ...   \n",
       "MISC                                                       []   \n",
       "\n",
       "                                                            1  \\\n",
       "filename                                           1990_3.txt   \n",
       "rohtext     э\\nf  ^\\n \\nISSN 0 0 3 8 - 5 0 5 0\\nЬ\\n О  В  ...   \n",
       "doc_object  (э, \\n, f,  , ^, \\n \\n, ISSN, 0, 0, 3, 8, -, 5...   \n",
       "tokens      [э, \\n, f,  , ^, \\n \\n, ISSN, 0, 0, 3, 8, 5, 0...   \n",
       "ntokens                                                111274   \n",
       "PER         [Родионов, В. В. Мунтян, М. И., Нина Ивановна ...   \n",
       "ORG         [БЫ  НАРОДОВ ИНСТИТУТ ЭТНОГРАФИИ им., Верховно...   \n",
       "LOC         [СССР, СССР, СССР, Узбекистана, Казахстана, Но...   \n",
       "MISC                                                       []   \n",
       "\n",
       "                                                            2  \n",
       "filename                                           1990_1.txt  \n",
       "rohtext     АКАДЕМИЯ НАУК СССР\\nОРДЕНА ДРУЖ БЫ  НАРОДОВ ИН...  \n",
       "doc_object  (АКАДЕМИЯ, НАУК, СССР, \\n, ОРДЕНА, ДРУЖ, БЫ,  ...  \n",
       "tokens      [АКАДЕМИЯ, НАУК, СССР, \\n, ОРДЕНА, ДРУЖ, БЫ,  ...  \n",
       "ntokens                                                105736  \n",
       "PER         [Л. Б., Б. П. Ш, Федор Кондратьевич Вовк (Волк...  \n",
       "ORG         [АКАДЕМИЯ НАУК СССР\\nОРДЕНА ДРУЖ БЫ  НАРОДОВ И...  \n",
       "LOC         [СССР, Сухуми, Абхазии, Камчатки, Киев, Ленинг...  \n",
       "MISC                                                       []  "
      ]
     },
     "execution_count": 24,
     "metadata": {},
     "output_type": "execute_result"
    }
   ],
   "source": [
    "df.head(3).T"
   ]
  },
  {
   "cell_type": "code",
   "execution_count": 147,
   "id": "bfab8a87-70cb-4adf-a40f-d9def6c9e87b",
   "metadata": {},
   "outputs": [],
   "source": [
    "check_dtype = df.loc[0, 'tokens']"
   ]
  },
  {
   "cell_type": "code",
   "execution_count": 148,
   "id": "130b0cb5-48b4-4111-a006-3a82040a4017",
   "metadata": {},
   "outputs": [
    {
     "data": {
      "text/plain": [
       "list"
      ]
     },
     "execution_count": 148,
     "metadata": {},
     "output_type": "execute_result"
    }
   ],
   "source": [
    "type(check_dtype)"
   ]
  },
  {
   "cell_type": "code",
   "execution_count": 149,
   "id": "33728cda-a1db-4a9a-88b0-9dc214086545",
   "metadata": {},
   "outputs": [
    {
     "data": {
      "text/plain": [
       "str"
      ]
     },
     "execution_count": 149,
     "metadata": {},
     "output_type": "execute_result"
    }
   ],
   "source": [
    "type(check_dtype[0])"
   ]
  },
  {
   "cell_type": "code",
   "execution_count": null,
   "id": "3a7732e9-fd04-4261-b1ab-f12d1eb29b8b",
   "metadata": {},
   "outputs": [],
   "source": [
    "# display locations\n",
    "\n",
    "for location in df['LOC']:\n",
    "    print(location)\n",
    "\n"
   ]
  },
  {
   "cell_type": "code",
   "execution_count": null,
   "id": "80e33398",
   "metadata": {},
   "outputs": [],
   "source": [
    "# store all locations in list (actually: list of lists, one list per text)\n",
    "locations = []\n",
    "for location in df['LOC']:\n",
    "    locations.append(location)\n",
    "\n",
    "# store unique locations in set (without original order)\n",
    "locs_unique = set()\n",
    "for lst in df['LOC']:\n",
    "    for loc in lst: \n",
    "        locs_unique.add(loc)\n",
    "\n",
    "# store unique locations in ordered set: https://pypi.org/project/ordered-set/ \n",
    "from ordered_set import OrderedSet\n",
    "\n",
    "locs_ordered = OrderedSet()\n",
    "for lst in df['LOC']:\n",
    "    for loc in lst: \n",
    "        locs_ordered.add(loc)\n",
    "print(locs_ordered)\n",
    "\n"
   ]
  },
  {
   "cell_type": "markdown",
   "id": "663b89ca-f4c5-43d8-a315-70eb1a7c88b8",
   "metadata": {},
   "source": [
    "## Locations-Liste speichern"
   ]
  },
  {
   "cell_type": "markdown",
   "id": "4cc06a42-dbbe-42e9-ae38-912395a37178",
   "metadata": {},
   "source": [
    "### als csv"
   ]
  },
  {
   "cell_type": "code",
   "execution_count": 26,
   "id": "9ab429ae-9a59-4c84-b785-910d1f77e213",
   "metadata": {},
   "outputs": [],
   "source": [
    "df.to_csv('se_ner-results.csv', index=False)"
   ]
  },
  {
   "cell_type": "code",
   "execution_count": 27,
   "id": "af298d4b-8b6b-4c59-956d-d496b807e7bd",
   "metadata": {},
   "outputs": [],
   "source": [
    "df_ohne_doc = df.drop(['doc_object'], axis=1)"
   ]
  },
  {
   "cell_type": "code",
   "execution_count": 28,
   "id": "7c2e6fb3-3e0f-46a3-bed7-4926673a378d",
   "metadata": {},
   "outputs": [],
   "source": [
    "df_ohne_doc.to_csv('se_ner-results-withoutdocobject.csv', index=False)"
   ]
  },
  {
   "cell_type": "markdown",
   "id": "f08699e1-c60f-4bac-8d5e-3217e20faf65",
   "metadata": {},
   "source": [
    "### als pickle"
   ]
  },
  {
   "cell_type": "code",
   "execution_count": 29,
   "id": "6e0ee3e0-ccd9-4cb8-b568-362ce5b6bdb3",
   "metadata": {},
   "outputs": [],
   "source": [
    "df_ohne_doc.to_pickle('se_ner-results.p')"
   ]
  },
  {
   "cell_type": "code",
   "execution_count": 46,
   "id": "3ea33f68-2f72-43de-9e52-5d458ce8c7a7",
   "metadata": {},
   "outputs": [],
   "source": [
    "# Save locations to pickle \n",
    "with open('se_ner-locations.p', 'wb') as out_1p:\n",
    "    pickle.dump(locations, out_1p)\n",
    "with open('se_ner-locations-unique.p', 'wb') as out_2p:\n",
    "    pickle.dump(locs_ordered, out_2p)\n"
   ]
  },
  {
   "cell_type": "markdown",
   "id": "22fb8bc7",
   "metadata": {},
   "source": [
    "### als plaintext"
   ]
  },
  {
   "cell_type": "code",
   "execution_count": 51,
   "id": "9383cf9c-21e1-46b9-bb7c-4636f07b7027",
   "metadata": {},
   "outputs": [],
   "source": [
    "# Save locations to txt files\n",
    "out_1 = open('se_ner-locations.txt', 'w')\n",
    "for lst in locations:\n",
    "    for element in lst: \n",
    "        out_1.write(element + '\\n')\n",
    "out_1.close()\n",
    "\n",
    "out_2 = open('se_ner-locations-unique.txt', 'w')\n",
    "for element in locs_ordered:\n",
    "    out_2.write(element + '\\n')\n",
    "out_2.close()\n"
   ]
  }
 ],
 "metadata": {
  "interpreter": {
   "hash": "9a2dc866ba4ef928e3c884cdfacc8ef32f27e46a04033eb0c6a7a0abcd3289d8"
  },
  "kernelspec": {
   "display_name": "Python 3.9.12 ('ner-spacy')",
   "language": "python",
   "name": "python3"
  },
  "language_info": {
   "codemirror_mode": {
    "name": "ipython",
    "version": 3
   },
   "file_extension": ".py",
   "mimetype": "text/x-python",
   "name": "python",
   "nbconvert_exporter": "python",
   "pygments_lexer": "ipython3",
   "version": "3.9.12"
  }
 },
 "nbformat": 4,
 "nbformat_minor": 5
}
